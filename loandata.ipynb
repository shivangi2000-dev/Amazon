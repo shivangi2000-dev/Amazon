{
 "cells": [
  {
   "cell_type": "code",
   "execution_count": 3,
   "metadata": {},
   "outputs": [],
   "source": [
    "# Import necessary libraries\n",
    "import pandas as pd\n",
    "import numpy as np\n",
    "import matplotlib.pyplot as plt\n",
    "import seaborn as sns\n",
    "from sklearn.model_selection import train_test_split\n",
    "from sklearn.preprocessing import StandardScaler, OneHotEncoder\n",
    "from sklearn.compose import ColumnTransformer\n",
    "from sklearn.pipeline import Pipeline\n",
    "from sklearn.impute import SimpleImputer\n",
    "from sklearn.linear_model import LogisticRegression\n",
    "from sklearn.metrics import classification_report, confusion_matrix, roc_auc_score, roc_curve\n",
    "\n",
    "\n",
    "\n"
   ]
  },
  {
   "cell_type": "code",
   "execution_count": 4,
   "metadata": {},
   "outputs": [],
   "source": [
    "# Full path to the CSV file\n",
    "file_path = \"/Users/shivangirai/Downloads/Loan Data.csv\"\n",
    "\n",
    "# Load the file into a DataFrame\n",
    "df = pd.read_csv(file_path)\n",
    "\n",
    "\n",
    "\n"
   ]
  },
  {
   "cell_type": "code",
   "execution_count": 5,
   "metadata": {},
   "outputs": [
    {
     "data": {
      "text/plain": [
       "(1225, 1)"
      ]
     },
     "execution_count": 5,
     "metadata": {},
     "output_type": "execute_result"
    }
   ],
   "source": [
    "df.shape"
   ]
  },
  {
   "cell_type": "code",
   "execution_count": 6,
   "metadata": {},
   "outputs": [
    {
     "data": {
      "text/html": [
       "<div>\n",
       "<style scoped>\n",
       "    .dataframe tbody tr th:only-of-type {\n",
       "        vertical-align: middle;\n",
       "    }\n",
       "\n",
       "    .dataframe tbody tr th {\n",
       "        vertical-align: top;\n",
       "    }\n",
       "\n",
       "    .dataframe thead th {\n",
       "        text-align: right;\n",
       "    }\n",
       "</style>\n",
       "<table border=\"1\" class=\"dataframe\">\n",
       "  <thead>\n",
       "    <tr style=\"text-align: right;\">\n",
       "      <th></th>\n",
       "      <th>YOB;NKID;DEP;PHON;SINC;AES;DAINC;RES;DHVAL;DMORT;DOUTM;DOUTL;DOUTHP;DOUTCC;BAD</th>\n",
       "    </tr>\n",
       "  </thead>\n",
       "  <tbody>\n",
       "    <tr>\n",
       "      <th>0</th>\n",
       "      <td>19.0;4.0;.0;1;.00;R;.00;O;14464.00;4.00;.00;.0...</td>\n",
       "    </tr>\n",
       "    <tr>\n",
       "      <th>1</th>\n",
       "      <td>41.0;2.0;.0;1;.00;P;36000.00;O;.00;.00;280.00;...</td>\n",
       "    </tr>\n",
       "    <tr>\n",
       "      <th>2</th>\n",
       "      <td>66.0;.0;.0;1;.00;N;30000.00;N;.00;.00;.00;.00;...</td>\n",
       "    </tr>\n",
       "    <tr>\n",
       "      <th>3</th>\n",
       "      <td>51.0;2.0;.0;1;.00;P;464.00;O;24928.00;8464.00;...</td>\n",
       "    </tr>\n",
       "    <tr>\n",
       "      <th>4</th>\n",
       "      <td>65.0;.0;.0;1;.00;P;15000.00;P;.00;.00;.00;.00;...</td>\n",
       "    </tr>\n",
       "    <tr>\n",
       "      <th>5</th>\n",
       "      <td>42.0;2.0;.0;1;10500.00;E;48000.00;O;43392.00;4...</td>\n",
       "    </tr>\n",
       "    <tr>\n",
       "      <th>6</th>\n",
       "      <td>59.0;.0;.0;1;6500.00;B;30000.00;O;62464.00;560...</td>\n",
       "    </tr>\n",
       "    <tr>\n",
       "      <th>7</th>\n",
       "      <td>43.0;1.0;.0;1;13500.00;E;9000.00;O;63392.00;54...</td>\n",
       "    </tr>\n",
       "    <tr>\n",
       "      <th>8</th>\n",
       "      <td>52.0;.0;.0;1;.00;E;22500.00;P;.00;.00;.00;200....</td>\n",
       "    </tr>\n",
       "    <tr>\n",
       "      <th>9</th>\n",
       "      <td>65.0;.0;.0;1;.00;P;19500.00;O;26464.00;4464.00...</td>\n",
       "    </tr>\n",
       "  </tbody>\n",
       "</table>\n",
       "</div>"
      ],
      "text/plain": [
       "  YOB;NKID;DEP;PHON;SINC;AES;DAINC;RES;DHVAL;DMORT;DOUTM;DOUTL;DOUTHP;DOUTCC;BAD\n",
       "0  19.0;4.0;.0;1;.00;R;.00;O;14464.00;4.00;.00;.0...                            \n",
       "1  41.0;2.0;.0;1;.00;P;36000.00;O;.00;.00;280.00;...                            \n",
       "2  66.0;.0;.0;1;.00;N;30000.00;N;.00;.00;.00;.00;...                            \n",
       "3  51.0;2.0;.0;1;.00;P;464.00;O;24928.00;8464.00;...                            \n",
       "4  65.0;.0;.0;1;.00;P;15000.00;P;.00;.00;.00;.00;...                            \n",
       "5  42.0;2.0;.0;1;10500.00;E;48000.00;O;43392.00;4...                            \n",
       "6  59.0;.0;.0;1;6500.00;B;30000.00;O;62464.00;560...                            \n",
       "7  43.0;1.0;.0;1;13500.00;E;9000.00;O;63392.00;54...                            \n",
       "8  52.0;.0;.0;1;.00;E;22500.00;P;.00;.00;.00;200....                            \n",
       "9  65.0;.0;.0;1;.00;P;19500.00;O;26464.00;4464.00...                            "
      ]
     },
     "execution_count": 6,
     "metadata": {},
     "output_type": "execute_result"
    }
   ],
   "source": [
    "df.head(10)"
   ]
  },
  {
   "cell_type": "code",
   "execution_count": 7,
   "metadata": {},
   "outputs": [
    {
     "data": {
      "text/plain": [
       "(1225, 1)"
      ]
     },
     "execution_count": 7,
     "metadata": {},
     "output_type": "execute_result"
    }
   ],
   "source": [
    "df.shape"
   ]
  },
  {
   "cell_type": "markdown",
   "metadata": {},
   "source": []
  },
  {
   "cell_type": "code",
   "execution_count": 10,
   "metadata": {},
   "outputs": [
    {
     "name": "stdout",
     "output_type": "stream",
     "text": [
      "    YOB  NKID  DEP  PHON  SINC AES    DAINC RES    DHVAL   DMORT  DOUTM  \\\n",
      "0  19.0   4.0  0.0     1   0.0   R      0.0   O  14464.0     4.0    0.0   \n",
      "1  41.0   2.0  0.0     1   0.0   P  36000.0   O      0.0     0.0  280.0   \n",
      "2  66.0   0.0  0.0     1   0.0   N  30000.0   N      0.0     0.0    0.0   \n",
      "3  51.0   2.0  0.0     1   0.0   P    464.0   O  24928.0  8464.0  584.0   \n",
      "4  65.0   0.0  0.0     1   0.0   P  15000.0   P      0.0     0.0    0.0   \n",
      "\n",
      "   DOUTL  DOUTHP  DOUTCC  BAD  \n",
      "0    0.0     0.0     0.0  0.0  \n",
      "1  664.0     0.0    80.0  0.0  \n",
      "2    0.0     0.0     0.0  0.0  \n",
      "3  320.0     0.0    60.0  0.0  \n",
      "4    0.0     0.0     0.0  0.0  \n"
     ]
    }
   ],
   "source": [
    "\n",
    "\n",
    "# Read the CSV file with semicolon (;) as the delimiter\n",
    "df = pd.read_csv(file_path, delimiter=\";\")\n",
    "\n",
    "# Display the first few rows\n",
    "print(df.head(5))\n"
   ]
  },
  {
   "cell_type": "code",
   "execution_count": 11,
   "metadata": {},
   "outputs": [
    {
     "data": {
      "text/plain": [
       "(1225, 15)"
      ]
     },
     "execution_count": 11,
     "metadata": {},
     "output_type": "execute_result"
    }
   ],
   "source": [
    "df.shape"
   ]
  },
  {
   "cell_type": "code",
   "execution_count": null,
   "metadata": {},
   "outputs": [],
   "source": [
    "# the delimiter was ; instead of , whuch had to be identified "
   ]
  },
  {
   "cell_type": "code",
   "execution_count": 12,
   "metadata": {},
   "outputs": [
    {
     "name": "stdout",
     "output_type": "stream",
     "text": [
      "YOB: Year of birth of the applicant.\n",
      "NKID: Number of kids in the applicant's household.\n",
      "DEP: Dependency indicator (likely number of dependents).\n",
      "PHON: Indicates whether the applicant has a phone (binary: 1 for yes, 0 for no).\n",
      "SINC: Annual salary/income of the applicant.\n",
      "AES: Employment status of the applicant, possibly encoded.\n",
      "DAINC: Debt-to-income ratio or a derived income metric.\n",
      "RES: Residence type or housing status.\n",
      "DHVAL: Total value of the applicant's debts or house value.\n",
      "DMORT: Debt associated with a mortgage.\n",
      "DOUT1: Debt on other loans/mortgages.\n",
      "DOUT2: Debt on loans.\n",
      "DOUTH: Debt on household/personal items.\n",
      "DOUTCC: Debt on credit cards.\n",
      "BAD: Target variable indicating loan default (1 for default, 0 otherwise).\n"
     ]
    }
   ],
   "source": [
    "# Column Descriptions for Loan Dataset\n",
    "column_descriptions = {\n",
    "    \"YOB\": \"Year of birth of the applicant.\",\n",
    "    \"NKID\": \"Number of kids in the applicant's household.\",\n",
    "    \"DEP\": \"Dependency indicator (likely number of dependents).\",\n",
    "    \"PHON\": \"Indicates whether the applicant has a phone (binary: 1 for yes, 0 for no).\",\n",
    "    \"SINC\": \"Annual salary/income of the applicant.\",\n",
    "    \"AES\": \"Employment status of the applicant, possibly encoded.\",\n",
    "    \"DAINC\": \"Debt-to-income ratio or a derived income metric.\",\n",
    "    \"RES\": \"Residence type or housing status.\",\n",
    "    \"DHVAL\": \"Total value of the applicant's debts or house value.\",\n",
    "    \"DMORT\": \"Debt associated with a mortgage.\",\n",
    "    \"DOUT1\": \"Debt on other loans/mortgages.\",\n",
    "    \"DOUT2\": \"Debt on loans.\",\n",
    "    \"DOUTH\": \"Debt on household/personal items.\",\n",
    "    \"DOUTCC\": \"Debt on credit cards.\",\n",
    "    \"BAD\": \"Target variable indicating loan default (1 for default, 0 otherwise).\"\n",
    "}\n",
    "\n",
    "# Print column descriptions\n",
    "for key, value in column_descriptions.items():\n",
    "    print(f\"{key}: {value}\")\n"
   ]
  },
  {
   "cell_type": "code",
   "execution_count": null,
   "metadata": {},
   "outputs": [],
   "source": []
  },
  {
   "cell_type": "code",
   "execution_count": 10,
   "metadata": {},
   "outputs": [
    {
     "data": {
      "text/html": [
       "<div>\n",
       "<style scoped>\n",
       "    .dataframe tbody tr th:only-of-type {\n",
       "        vertical-align: middle;\n",
       "    }\n",
       "\n",
       "    .dataframe tbody tr th {\n",
       "        vertical-align: top;\n",
       "    }\n",
       "\n",
       "    .dataframe thead th {\n",
       "        text-align: right;\n",
       "    }\n",
       "</style>\n",
       "<table border=\"1\" class=\"dataframe\">\n",
       "  <thead>\n",
       "    <tr style=\"text-align: right;\">\n",
       "      <th></th>\n",
       "      <th>YOB;NKID;DEP;PHON;SINC;AES;DAINC;RES;DHVAL;DMORT;DOUTM;DOUTL;DOUTHP;DOUTCC;BAD</th>\n",
       "    </tr>\n",
       "  </thead>\n",
       "  <tbody>\n",
       "    <tr>\n",
       "      <th>0</th>\n",
       "      <td>19.0;4.0;.0;1;.00;R;.00;O;14464.00;4.00;.00;.0...</td>\n",
       "    </tr>\n",
       "    <tr>\n",
       "      <th>1</th>\n",
       "      <td>41.0;2.0;.0;1;.00;P;36000.00;O;.00;.00;280.00;...</td>\n",
       "    </tr>\n",
       "    <tr>\n",
       "      <th>2</th>\n",
       "      <td>66.0;.0;.0;1;.00;N;30000.00;N;.00;.00;.00;.00;...</td>\n",
       "    </tr>\n",
       "    <tr>\n",
       "      <th>3</th>\n",
       "      <td>51.0;2.0;.0;1;.00;P;464.00;O;24928.00;8464.00;...</td>\n",
       "    </tr>\n",
       "    <tr>\n",
       "      <th>4</th>\n",
       "      <td>65.0;.0;.0;1;.00;P;15000.00;P;.00;.00;.00;.00;...</td>\n",
       "    </tr>\n",
       "    <tr>\n",
       "      <th>5</th>\n",
       "      <td>42.0;2.0;.0;1;10500.00;E;48000.00;O;43392.00;4...</td>\n",
       "    </tr>\n",
       "    <tr>\n",
       "      <th>6</th>\n",
       "      <td>59.0;.0;.0;1;6500.00;B;30000.00;O;62464.00;560...</td>\n",
       "    </tr>\n",
       "    <tr>\n",
       "      <th>7</th>\n",
       "      <td>43.0;1.0;.0;1;13500.00;E;9000.00;O;63392.00;54...</td>\n",
       "    </tr>\n",
       "    <tr>\n",
       "      <th>8</th>\n",
       "      <td>52.0;.0;.0;1;.00;E;22500.00;P;.00;.00;.00;200....</td>\n",
       "    </tr>\n",
       "    <tr>\n",
       "      <th>9</th>\n",
       "      <td>65.0;.0;.0;1;.00;P;19500.00;O;26464.00;4464.00...</td>\n",
       "    </tr>\n",
       "  </tbody>\n",
       "</table>\n",
       "</div>"
      ],
      "text/plain": [
       "  YOB;NKID;DEP;PHON;SINC;AES;DAINC;RES;DHVAL;DMORT;DOUTM;DOUTL;DOUTHP;DOUTCC;BAD\n",
       "0  19.0;4.0;.0;1;.00;R;.00;O;14464.00;4.00;.00;.0...                            \n",
       "1  41.0;2.0;.0;1;.00;P;36000.00;O;.00;.00;280.00;...                            \n",
       "2  66.0;.0;.0;1;.00;N;30000.00;N;.00;.00;.00;.00;...                            \n",
       "3  51.0;2.0;.0;1;.00;P;464.00;O;24928.00;8464.00;...                            \n",
       "4  65.0;.0;.0;1;.00;P;15000.00;P;.00;.00;.00;.00;...                            \n",
       "5  42.0;2.0;.0;1;10500.00;E;48000.00;O;43392.00;4...                            \n",
       "6  59.0;.0;.0;1;6500.00;B;30000.00;O;62464.00;560...                            \n",
       "7  43.0;1.0;.0;1;13500.00;E;9000.00;O;63392.00;54...                            \n",
       "8  52.0;.0;.0;1;.00;E;22500.00;P;.00;.00;.00;200....                            \n",
       "9  65.0;.0;.0;1;.00;P;19500.00;O;26464.00;4464.00...                            "
      ]
     },
     "execution_count": 10,
     "metadata": {},
     "output_type": "execute_result"
    }
   ],
   "source": []
  },
  {
   "cell_type": "code",
   "execution_count": 13,
   "metadata": {},
   "outputs": [
    {
     "name": "stdout",
     "output_type": "stream",
     "text": [
      "<class 'pandas.core.frame.DataFrame'>\n",
      "RangeIndex: 1225 entries, 0 to 1224\n",
      "Data columns (total 15 columns):\n",
      " #   Column  Non-Null Count  Dtype  \n",
      "---  ------  --------------  -----  \n",
      " 0   YOB     1225 non-null   float64\n",
      " 1   NKID    1225 non-null   float64\n",
      " 2   DEP     1225 non-null   float64\n",
      " 3   PHON    1225 non-null   int64  \n",
      " 4   SINC    1225 non-null   float64\n",
      " 5   AES     1225 non-null   object \n",
      " 6   DAINC   1225 non-null   float64\n",
      " 7   RES     1225 non-null   object \n",
      " 8   DHVAL   1225 non-null   float64\n",
      " 9   DMORT   1225 non-null   float64\n",
      " 10  DOUTM   1225 non-null   float64\n",
      " 11  DOUTL   1225 non-null   float64\n",
      " 12  DOUTHP  1225 non-null   float64\n",
      " 13  DOUTCC  1225 non-null   float64\n",
      " 14  BAD     1225 non-null   float64\n",
      "dtypes: float64(12), int64(1), object(2)\n",
      "memory usage: 143.7+ KB\n",
      "None\n",
      "               YOB         NKID          DEP         PHON          SINC  \\\n",
      "count  1225.000000  1225.000000  1225.000000  1225.000000   1225.000000   \n",
      "mean     51.037551     0.623673     0.038367     0.903673   1990.084898   \n",
      "std      15.301818     1.016013     0.219917     0.295159   4802.341425   \n",
      "min       3.000000     0.000000     0.000000     0.000000      0.000000   \n",
      "25%      42.000000     0.000000     0.000000     1.000000      0.000000   \n",
      "50%      55.000000     0.000000     0.000000     1.000000      0.000000   \n",
      "75%      63.000000     1.000000     0.000000     1.000000   1040.000000   \n",
      "max      99.000000     5.000000     2.000000     1.000000  50000.000000   \n",
      "\n",
      "              DAINC         DHVAL         DMORT        DOUTM         DOUTL  \\\n",
      "count   1225.000000   1225.000000   1225.000000  1225.000000   1225.000000   \n",
      "mean   21244.211429  15693.857959  11225.691429   342.004898    121.926531   \n",
      "std    15896.207986  20736.331833  18889.207107   427.993865    839.639588   \n",
      "min        0.000000      0.000000      0.000000     0.000000      0.000000   \n",
      "25%     9000.000000      0.000000      0.000000     0.000000      0.000000   \n",
      "50%    19500.000000      0.000000      0.000000   256.000000      0.000000   \n",
      "75%    30600.000000  28928.000000  20000.000000   528.000000      0.000000   \n",
      "max    64800.000000  64928.000000  64000.000000  3800.000000  28000.000000   \n",
      "\n",
      "            DOUTHP       DOUTCC          BAD  \n",
      "count  1225.000000  1225.000000  1225.000000  \n",
      "mean     28.721633    39.595102     0.263673  \n",
      "std     119.324084   168.697101     0.440804  \n",
      "min       0.000000     0.000000     0.000000  \n",
      "25%       0.000000     0.000000     0.000000  \n",
      "50%       0.000000     0.000000     0.000000  \n",
      "75%       0.000000     0.000000     1.000000  \n",
      "max    1600.000000  2800.000000     1.000000  \n",
      "Missing values in each column:\n",
      "YOB       0\n",
      "NKID      0\n",
      "DEP       0\n",
      "PHON      0\n",
      "SINC      0\n",
      "AES       0\n",
      "DAINC     0\n",
      "RES       0\n",
      "DHVAL     0\n",
      "DMORT     0\n",
      "DOUTM     0\n",
      "DOUTL     0\n",
      "DOUTHP    0\n",
      "DOUTCC    0\n",
      "BAD       0\n",
      "dtype: int64\n"
     ]
    }
   ],
   "source": [
    "# Quick overview of the dataset\n",
    "print(df.info())\n",
    "print(df.describe())\n",
    "\n",
    "# Check for missing values\n",
    "print(\"Missing values in each column:\")\n",
    "print(df.isnull().sum())\n"
   ]
  },
  {
   "cell_type": "code",
   "execution_count": 14,
   "metadata": {},
   "outputs": [
    {
     "name": "stdout",
     "output_type": "stream",
     "text": [
      "Missing values in each column:\n",
      "YOB       0\n",
      "NKID      0\n",
      "DEP       0\n",
      "PHON      0\n",
      "SINC      0\n",
      "AES       0\n",
      "DAINC     0\n",
      "RES       0\n",
      "DHVAL     0\n",
      "DMORT     0\n",
      "DOUTM     0\n",
      "DOUTL     0\n",
      "DOUTHP    0\n",
      "DOUTCC    0\n",
      "BAD       0\n",
      "dtype: int64\n"
     ]
    }
   ],
   "source": [
    "\n",
    "# Check for missing values\n",
    "print(\"Missing values in each column:\")\n",
    "print(df.isnull().sum())"
   ]
  },
  {
   "cell_type": "code",
   "execution_count": 15,
   "metadata": {},
   "outputs": [
    {
     "name": "stdout",
     "output_type": "stream",
     "text": [
      "🔹 YOB: 21 outliers\n",
      " 48     99.0\n",
      "313     8.0\n",
      "332     9.0\n",
      "505    10.0\n",
      "540     9.0\n",
      "Name: YOB, dtype: float64 \n",
      "\n",
      "🔹 NKID: 258 outliers\n",
      " 0     4.0\n",
      "1     2.0\n",
      "3     2.0\n",
      "5     2.0\n",
      "10    2.0\n",
      "Name: NKID, dtype: float64 \n",
      "\n",
      "🔹 DEP: 40 outliers\n",
      " 23     1.0\n",
      "24     1.0\n",
      "86     1.0\n",
      "113    1.0\n",
      "131    1.0\n",
      "Name: DEP, dtype: float64 \n",
      "\n",
      "🔹 PHON: 118 outliers\n",
      " 25    0\n",
      "28    0\n",
      "35    0\n",
      "43    0\n",
      "56    0\n",
      "Name: PHON, dtype: int64 \n",
      "\n",
      "🔹 SINC: 292 outliers\n",
      " 5     10500.0\n",
      "6      6500.0\n",
      "7     13500.0\n",
      "11     8000.0\n",
      "13    10000.0\n",
      "Name: SINC, dtype: float64 \n",
      "\n",
      "🔹 DAINC: 158 outliers\n",
      " 5     48000.0\n",
      "14    48000.0\n",
      "27    60000.0\n",
      "34    48000.0\n",
      "36    42000.0\n",
      "Name: DAINC, dtype: float64 \n",
      "\n",
      "🔹 DHVAL: 187 outliers\n",
      " 6     62464.0\n",
      "7     63392.0\n",
      "12    54464.0\n",
      "14    50464.0\n",
      "17    52928.0\n",
      "Name: DHVAL, dtype: float64 \n",
      "\n",
      "🔹 DMORT: 225 outliers\n",
      " 5     46464.0\n",
      "6     56000.0\n",
      "7     54464.0\n",
      "11    64000.0\n",
      "16    54000.0\n",
      "Name: DMORT, dtype: float64 \n",
      "\n",
      "🔹 DOUTM: 153 outliers\n",
      " 5     1120.0\n",
      "23    2800.0\n",
      "25     852.0\n",
      "26     940.0\n",
      "31    1608.0\n",
      "Name: DOUTM, dtype: float64 \n",
      "\n",
      "🔹 DOUTL: 300 outliers\n",
      " 1     664.0\n",
      "3     320.0\n",
      "7     200.0\n",
      "8     200.0\n",
      "16    240.0\n",
      "Name: DOUTL, dtype: float64 \n",
      "\n",
      "🔹 DOUTHP: 129 outliers\n",
      " 6      96.0\n",
      "10    524.0\n",
      "16    480.0\n",
      "26     44.0\n",
      "29    276.0\n",
      "Name: DOUTHP, dtype: float64 \n",
      "\n",
      "🔹 DOUTCC: 211 outliers\n",
      " 1      80.0\n",
      "3      60.0\n",
      "8      80.0\n",
      "14     88.0\n",
      "18    140.0\n",
      "Name: DOUTCC, dtype: float64 \n",
      "\n",
      "🔹 BAD: 0 outliers\n",
      " Series([], Name: BAD, dtype: float64) \n",
      "\n"
     ]
    }
   ],
   "source": [
    "# Detect outliers using IQR\n",
    "outliers = {col: df[(df[col] < (Q1 := df[col].quantile(0.25)) - 1.5 * (IQR := df[col].quantile(0.75) - Q1)) | \n",
    "                     (df[col] > Q1 + 1.5 * IQR)][col]\n",
    "            for col in df.select_dtypes(include=[np.number])}\n",
    "\n",
    "# Print results\n",
    "for col, vals in outliers.items():\n",
    "    print(f\"🔹 {col}: {len(vals)} outliers\\n\", vals.head(), \"\\n\")"
   ]
  },
  {
   "cell_type": "code",
   "execution_count": 28,
   "metadata": {},
   "outputs": [
    {
     "data": {
      "text/plain": [
       "(1225, 15)"
      ]
     },
     "execution_count": 28,
     "metadata": {},
     "output_type": "execute_result"
    }
   ],
   "source": [
    "df.shape"
   ]
  },
  {
   "cell_type": "code",
   "execution_count": null,
   "metadata": {},
   "outputs": [],
   "source": []
  },
  {
   "cell_type": "code",
   "execution_count": null,
   "metadata": {},
   "outputs": [],
   "source": []
  },
  {
   "cell_type": "code",
   "execution_count": null,
   "metadata": {},
   "outputs": [],
   "source": []
  },
  {
   "cell_type": "code",
   "execution_count": null,
   "metadata": {},
   "outputs": [],
   "source": []
  },
  {
   "cell_type": "code",
   "execution_count": null,
   "metadata": {},
   "outputs": [],
   "source": []
  },
  {
   "cell_type": "code",
   "execution_count": null,
   "metadata": {},
   "outputs": [],
   "source": []
  },
  {
   "cell_type": "code",
   "execution_count": null,
   "metadata": {},
   "outputs": [],
   "source": []
  },
  {
   "cell_type": "code",
   "execution_count": null,
   "metadata": {},
   "outputs": [],
   "source": []
  },
  {
   "cell_type": "code",
   "execution_count": null,
   "metadata": {},
   "outputs": [],
   "source": [
    "# NOT Advisable to remove the outliers .get"
   ]
  },
  {
   "cell_type": "code",
   "execution_count": 21,
   "metadata": {},
   "outputs": [
    {
     "data": {
      "image/png": "[encoded data removed]",
      "text/plain": [
       "<Figure size 600x400 with 1 Axes>"
      ]
     },
     "metadata": {},
     "output_type": "display_data"
    }
   ],
   "source": [
    "#EDA\n",
    "plt.figure(figsize=(6, 4))\n",
    "sns.countplot(x='BAD', data=df)\n",
    "plt.title('Distribution of Default')\n",
    "plt.show() "
   ]
  },
  {
   "cell_type": "code",
   "execution_count": 22,
   "metadata": {},
   "outputs": [
    {
     "data": {
      "image/png": "[encoded data removed]",
      "text/plain": [
       "<Figure size 1000x800 with 2 Axes>"
      ]
     },
     "metadata": {},
     "output_type": "display_data"
    }
   ],
   "source": [
    "# Select only numerical columns\n",
    "numeric_df = df.select_dtypes(include=['number'])\n",
    "\n",
    "# Plot the correlation heatmap\n",
    "plt.figure(figsize=(10, 8))\n",
    "sns.heatmap(numeric_df.corr(), annot=True, cmap='coolwarm', fmt=\".2f\", linewidths=0.5)\n",
    "plt.title('Correlation Heatmap for Numeric Features')\n",
    "plt.show()"
   ]
  },
  {
   "cell_type": "code",
   "execution_count": 26,
   "metadata": {},
   "outputs": [],
   "source": [
    "# Define features and target variable\n",
    "X = df.drop('BAD', axis=1)  # Replace 'target' with your actual target column name\n",
    "y = df['BAD']\n",
    "\n",
    "# One-hot encode categorical variables\n",
    "X = pd.get_dummies(X, drop_first=True)\n",
    "\n",
    "# Train-test split\n",
    "X_train, X_test, y_train, y_test = train_test_split(X, y, test_size=0.2, random_state=42)\n",
    "\n",
    "# Standardize numeric features\n",
    "scaler = StandardScaler()\n",
    "X_train = scaler.fit_transform(X_train)\n",
    "X_test = scaler.transform(X_test)"
   ]
  },
  {
   "cell_type": "code",
   "execution_count": 29,
   "metadata": {},
   "outputs": [
    {
     "data": {
      "text/html": [
       "<div>\n",
       "<style scoped>\n",
       "    .dataframe tbody tr th:only-of-type {\n",
       "        vertical-align: middle;\n",
       "    }\n",
       "\n",
       "    .dataframe tbody tr th {\n",
       "        vertical-align: top;\n",
       "    }\n",
       "\n",
       "    .dataframe thead th {\n",
       "        text-align: right;\n",
       "    }\n",
       "</style>\n",
       "<table border=\"1\" class=\"dataframe\">\n",
       "  <thead>\n",
       "    <tr style=\"text-align: right;\">\n",
       "      <th></th>\n",
       "      <th>YOB</th>\n",
       "      <th>NKID</th>\n",
       "      <th>DEP</th>\n",
       "      <th>PHON</th>\n",
       "      <th>SINC</th>\n",
       "      <th>AES</th>\n",
       "      <th>DAINC</th>\n",
       "      <th>RES</th>\n",
       "      <th>DHVAL</th>\n",
       "      <th>DMORT</th>\n",
       "      <th>DOUTM</th>\n",
       "      <th>DOUTL</th>\n",
       "      <th>DOUTHP</th>\n",
       "      <th>DOUTCC</th>\n",
       "      <th>BAD</th>\n",
       "    </tr>\n",
       "  </thead>\n",
       "  <tbody>\n",
       "    <tr>\n",
       "      <th>0</th>\n",
       "      <td>19.0</td>\n",
       "      <td>4.0</td>\n",
       "      <td>0.0</td>\n",
       "      <td>1</td>\n",
       "      <td>0.0</td>\n",
       "      <td>R</td>\n",
       "      <td>0.0</td>\n",
       "      <td>O</td>\n",
       "      <td>14464.0</td>\n",
       "      <td>4.0</td>\n",
       "      <td>0.0</td>\n",
       "      <td>0.0</td>\n",
       "      <td>0.0</td>\n",
       "      <td>0.0</td>\n",
       "      <td>0.0</td>\n",
       "    </tr>\n",
       "    <tr>\n",
       "      <th>1</th>\n",
       "      <td>41.0</td>\n",
       "      <td>2.0</td>\n",
       "      <td>0.0</td>\n",
       "      <td>1</td>\n",
       "      <td>0.0</td>\n",
       "      <td>P</td>\n",
       "      <td>36000.0</td>\n",
       "      <td>O</td>\n",
       "      <td>0.0</td>\n",
       "      <td>0.0</td>\n",
       "      <td>280.0</td>\n",
       "      <td>664.0</td>\n",
       "      <td>0.0</td>\n",
       "      <td>80.0</td>\n",
       "      <td>0.0</td>\n",
       "    </tr>\n",
       "    <tr>\n",
       "      <th>2</th>\n",
       "      <td>66.0</td>\n",
       "      <td>0.0</td>\n",
       "      <td>0.0</td>\n",
       "      <td>1</td>\n",
       "      <td>0.0</td>\n",
       "      <td>N</td>\n",
       "      <td>30000.0</td>\n",
       "      <td>N</td>\n",
       "      <td>0.0</td>\n",
       "      <td>0.0</td>\n",
       "      <td>0.0</td>\n",
       "      <td>0.0</td>\n",
       "      <td>0.0</td>\n",
       "      <td>0.0</td>\n",
       "      <td>0.0</td>\n",
       "    </tr>\n",
       "    <tr>\n",
       "      <th>3</th>\n",
       "      <td>51.0</td>\n",
       "      <td>2.0</td>\n",
       "      <td>0.0</td>\n",
       "      <td>1</td>\n",
       "      <td>0.0</td>\n",
       "      <td>P</td>\n",
       "      <td>464.0</td>\n",
       "      <td>O</td>\n",
       "      <td>24928.0</td>\n",
       "      <td>8464.0</td>\n",
       "      <td>584.0</td>\n",
       "      <td>320.0</td>\n",
       "      <td>0.0</td>\n",
       "      <td>60.0</td>\n",
       "      <td>0.0</td>\n",
       "    </tr>\n",
       "    <tr>\n",
       "      <th>4</th>\n",
       "      <td>65.0</td>\n",
       "      <td>0.0</td>\n",
       "      <td>0.0</td>\n",
       "      <td>1</td>\n",
       "      <td>0.0</td>\n",
       "      <td>P</td>\n",
       "      <td>15000.0</td>\n",
       "      <td>P</td>\n",
       "      <td>0.0</td>\n",
       "      <td>0.0</td>\n",
       "      <td>0.0</td>\n",
       "      <td>0.0</td>\n",
       "      <td>0.0</td>\n",
       "      <td>0.0</td>\n",
       "      <td>0.0</td>\n",
       "    </tr>\n",
       "  </tbody>\n",
       "</table>\n",
       "</div>"
      ],
      "text/plain": [
       "    YOB  NKID  DEP  PHON  SINC AES    DAINC RES    DHVAL   DMORT  DOUTM  \\\n",
       "0  19.0   4.0  0.0     1   0.0   R      0.0   O  14464.0     4.0    0.0   \n",
       "1  41.0   2.0  0.0     1   0.0   P  36000.0   O      0.0     0.0  280.0   \n",
       "2  66.0   0.0  0.0     1   0.0   N  30000.0   N      0.0     0.0    0.0   \n",
       "3  51.0   2.0  0.0     1   0.0   P    464.0   O  24928.0  8464.0  584.0   \n",
       "4  65.0   0.0  0.0     1   0.0   P  15000.0   P      0.0     0.0    0.0   \n",
       "\n",
       "   DOUTL  DOUTHP  DOUTCC  BAD  \n",
       "0    0.0     0.0     0.0  0.0  \n",
       "1  664.0     0.0    80.0  0.0  \n",
       "2    0.0     0.0     0.0  0.0  \n",
       "3  320.0     0.0    60.0  0.0  \n",
       "4    0.0     0.0     0.0  0.0  "
      ]
     },
     "execution_count": 29,
     "metadata": {},
     "output_type": "execute_result"
    }
   ],
   "source": [
    "df.head(5)"
   ]
  },
  {
   "cell_type": "code",
   "execution_count": 31,
   "metadata": {},
   "outputs": [],
   "source": [
    "#identify categorical and numerical columns\n",
    "categorical_columns = df.select_dtypes(include=['object']).columns  # Assuming categorical columns are of type 'object'\n",
    "numerical_columns = df.select_dtypes(include=['int64', 'float64']).columns\n"
   ]
  },
  {
   "cell_type": "code",
   "execution_count": null,
   "metadata": {},
   "outputs": [
    {
     "name": "stdout",
     "output_type": "stream",
     "text": [
      "Numerical Columns (before scaling): ['YOB', 'NKID', 'DEP', 'PHON', 'SINC', 'AES', 'DAINC', 'RES', 'DHVAL', 'DMORT', 'DOUTM', 'DOUTL', 'DOUTHP', 'DOUTCC']\n",
      "        YOB      NKID       DEP      PHON      SINC       AES     DAINC  \\\n",
      "0 -2.094564  3.324471 -0.174534  0.326488 -0.414568  0.084501 -1.336978   \n",
      "1 -0.656239  1.355188 -0.174534  0.326488 -0.414568 -0.350432  0.928638   \n",
      "2  0.978221 -0.614095 -0.174534  0.326488 -0.414568 -0.785365  0.551035   \n",
      "3 -0.002455  1.355188 -0.174534  0.326488 -0.414568 -0.350432 -1.307777   \n",
      "4  0.912843 -0.614095 -0.174534  0.326488 -0.414568 -0.350432 -0.392972   \n",
      "\n",
      "        RES     DHVAL     DMORT     DOUTM     DOUTL    DOUTHP    DOUTCC  BAD  \n",
      "0 -0.179919 -0.059334 -0.594322 -0.799415 -0.145272 -0.240801 -0.234807    0  \n",
      "1 -0.179919 -0.757138 -0.594534 -0.144933  0.645866 -0.240801  0.239609    0  \n",
      "2 -1.113823 -0.757138 -0.594534 -0.799415 -0.145272 -0.240801 -0.234807    0  \n",
      "3 -0.179919  0.445494 -0.146264  0.565648  0.235999 -0.240801  0.121005    0  \n",
      "4  0.753984 -0.757138 -0.594534 -0.799415 -0.145272 -0.240801 -0.234807    0  \n",
      "Unique values in 'BAD': [0 1]\n"
     ]
    }
   ],
   "source": [
    "from sklearn.preprocessing import StandardScaler, LabelEncoder\n",
    "\n",
    "# Identify categorical and numerical columns\n",
    "categorical_columns = df.select_dtypes(include=['object']).columns.tolist()\n",
    "numerical_columns = df.select_dtypes(include=['int64', 'float64']).columns.tolist()\n",
    "\n",
    "# Ensure the target variable ('BAD') is not included in numerical_columns\n",
    "if 'BAD' in numerical_columns:\n",
    "    numerical_columns.remove('BAD')\n",
    "\n",
    "# Print numerical columns to verify 'BAD' is removed\n",
    "print(\"Numerical Columns (before scaling):\", numerical_columns)\n",
    "\n",
    "# Initialize dictionaries to store encoders\n",
    "label_encoders = {}\n",
    "\n",
    "# Encoding categorical columns using Label Encoding\n",
    "for col in categorical_columns:\n",
    "    le = LabelEncoder()\n",
    "    df[col] = le.fit_transform(df[col])\n",
    "    label_encoders[col] = le  # Store encoder for future use\n",
    "\n",
    "# Ensure 'BAD' remains unchanged\n",
    "df['BAD'] = df['BAD'].astype(int)  # Convert to integer if it's not already\n",
    "\n",
    "# Standardizing numerical columns (excluding 'BAD')\n",
    "scaler = StandardScaler()\n",
    "\n",
    "# Explicitly confirm 'BAD' is NOT in numerical columns before scaling\n",
    "df[numerical_columns] = scaler.fit_transform(df[numerical_columns])\n",
    "\n",
    "# Save the processed dataset\n",
    "df.to_csv(\"processed_data.csv\", index=False)\n",
    "\n",
    "# Display first few rows to verify\n",
    "print(df.head())\n",
    "\n"
   ]
  },
  {
   "cell_type": "code",
   "execution_count": 49,
   "metadata": {},
   "outputs": [
    {
     "name": "stdout",
     "output_type": "stream",
     "text": [
      "Unique values in column 'BAD': [0 1]\n"
     ]
    }
   ],
   "source": [
    "unique_values = df[\"BAD\"].unique()\n",
    "print(f\"Unique values in column 'BAD':\", unique_values)\n"
   ]
  },
  {
   "cell_type": "code",
   "execution_count": 51,
   "metadata": {},
   "outputs": [
    {
     "data": {
      "text/plain": [
       "(1225, 15)"
      ]
     },
     "execution_count": 51,
     "metadata": {},
     "output_type": "execute_result"
    }
   ],
   "source": [
    "df.shape"
   ]
  },
  {
   "cell_type": "code",
   "execution_count": 53,
   "metadata": {},
   "outputs": [
    {
     "name": "stdout",
     "output_type": "stream",
     "text": [
      "Training set shape: (980, 14) (980,)\n",
      "Testing set shape: (245, 14) (245,)\n"
     ]
    }
   ],
   "source": [
    "#training and testing data \n",
    "from sklearn.model_selection import train_test_split\n",
    "\n",
    "# Define target variable\n",
    "target_column = \"BAD\"\n",
    "\n",
    "# Splitting features (X) and target variable (y)\n",
    "X = df.drop(columns=[target_column])  # Features\n",
    "y = df[target_column]  # Target variable\n",
    "\n",
    "# Split the dataset (80% training, 20% testing)\n",
    "X_train, X_test, y_train, y_test = train_test_split(X, y, test_size=0.2, random_state=42, stratify=y)\n",
    "\n",
    "# Check the shape of the datasets\n",
    "print(\"Training set shape:\", X_train.shape, y_train.shape)\n",
    "print(\"Testing set shape:\", X_test.shape, y_test.shape)\n"
   ]
  },
  {
   "cell_type": "code",
   "execution_count": null,
   "metadata": {},
   "outputs": [],
   "source": [
    "# training  set = 80 % of total rows(1225) = 980\n",
    "# testing set=20% of total rows 1225 \n",
    "# 15 columns out of which one is target which is removed during testing . \n"
   ]
  },
  {
   "cell_type": "code",
   "execution_count": 61,
   "metadata": {},
   "outputs": [],
   "source": [
    "import pandas as pd\n",
    "import numpy as np\n",
    "from sklearn.model_selection import train_test_split\n",
    "from sklearn.preprocessing import StandardScaler\n",
    "from sklearn.linear_model import LogisticRegression\n",
    "from sklearn.metrics import accuracy_score, classification_report, confusion_matrix\n"
   ]
  },
  {
   "cell_type": "code",
   "execution_count": 64,
   "metadata": {},
   "outputs": [
    {
     "name": "stdout",
     "output_type": "stream",
     "text": [
      "🎯 Random Forest Accuracy: 0.7183673469387755\n",
      "              precision    recall  f1-score   support\n",
      "\n",
      "           0       0.76      0.91      0.83       180\n",
      "           1       0.43      0.20      0.27        65\n",
      "\n",
      "    accuracy                           0.72       245\n",
      "   macro avg       0.60      0.55      0.55       245\n",
      "weighted avg       0.67      0.72      0.68       245\n",
      "\n"
     ]
    }
   ],
   "source": [
    "from sklearn.ensemble import RandomForestClassifier\n",
    "\n",
    "\n",
    "\n",
    "rf_model = RandomForestClassifier(n_estimators=100, random_state=42)\n",
    "rf_model.fit(X_train, y_train)\n",
    "\n",
    "# Predict\n",
    "y_pred_rf = rf_model.predict(X_test)\n",
    "\n",
    "# Evaluate\n",
    "print(\"🎯 Random Forest Accuracy:\", accuracy_score(y_test, y_pred_rf))\n",
    "print(classification_report(y_test, y_pred_rf))\n"
   ]
  },
  {
   "cell_type": "code",
   "execution_count": 62,
   "metadata": {},
   "outputs": [
    {
     "name": "stdout",
     "output_type": "stream",
     "text": [
      "XGBoost Accuracy: 0.7428571428571429\n",
      "              precision    recall  f1-score   support\n",
      "\n",
      "           0       0.76      0.96      0.85       180\n",
      "           1       0.56      0.15      0.24        65\n",
      "\n",
      "    accuracy                           0.74       245\n",
      "   macro avg       0.66      0.55      0.54       245\n",
      "weighted avg       0.70      0.74      0.68       245\n",
      "\n"
     ]
    }
   ],
   "source": [
    "import xgboost as xgb\n",
    "\n",
    "\n",
    "\n",
    "xgb_model = xgb.XGBClassifier(n_estimators=100, learning_rate=0.1, max_depth=3, random_state=42)\n",
    "xgb_model.fit(X_train, y_train)\n",
    "\n",
    "# Make predictions\n",
    "y_pred_xgb = xgb_model.predict(X_test)\n",
    "\n",
    "# Evaluate\n",
    "print(\"XGBoost Accuracy:\", accuracy_score(y_test, y_pred_xgb))\n",
    "print(classification_report(y_test, y_pred_xgb))\n"
   ]
  },
  {
   "cell_type": "code",
   "execution_count": 73,
   "metadata": {},
   "outputs": [],
   "source": [
    "import xgboost as xgb\n",
    "import lightgbm as lgb\n",
    "import tensorflow as tf\n",
    "from tensorflow import keras\n",
    "import catboost as cb\n"
   ]
  },
  {
   "cell_type": "code",
   "execution_count": 74,
   "metadata": {},
   "outputs": [
    {
     "name": "stdout",
     "output_type": "stream",
     "text": [
      "[LightGBM] [Info] Number of positive: 258, number of negative: 722\n",
      "[LightGBM] [Info] Auto-choosing row-wise multi-threading, the overhead of testing was 0.000311 seconds.\n",
      "You can set `force_row_wise=true` to remove the overhead.\n",
      "And if memory is not enough, you can set `force_col_wise=true`.\n",
      "[LightGBM] [Info] Total Bins 725\n",
      "[LightGBM] [Info] Number of data points in the train set: 980, number of used features: 14\n",
      "[LightGBM] [Info] [binary:BoostFromScore]: pavg=0.263265 -> initscore=-1.029066\n",
      "[LightGBM] [Info] Start training from score -1.029066\n",
      "[LightGBM] [Warning] No further splits with positive gain, best gain: -inf\n",
      "[LightGBM] [Warning] No further splits with positive gain, best gain: -inf\n",
      "[LightGBM] [Warning] No further splits with positive gain, best gain: -inf\n",
      "[LightGBM] [Warning] No further splits with positive gain, best gain: -inf\n",
      "[LightGBM] [Warning] No further splits with positive gain, best gain: -inf\n",
      "[LightGBM] [Warning] No further splits with positive gain, best gain: -inf\n",
      "[LightGBM] [Warning] No further splits with positive gain, best gain: -inf\n",
      "[LightGBM] [Warning] No further splits with positive gain, best gain: -inf\n",
      "[LightGBM] [Warning] No further splits with positive gain, best gain: -inf\n",
      "[LightGBM] [Warning] No further splits with positive gain, best gain: -inf\n",
      "[LightGBM] [Warning] No further splits with positive gain, best gain: -inf\n",
      "[LightGBM] [Warning] No further splits with positive gain, best gain: -inf\n",
      "[LightGBM] [Warning] No further splits with positive gain, best gain: -inf\n",
      "[LightGBM] [Warning] No further splits with positive gain, best gain: -inf\n",
      "[LightGBM] [Warning] No further splits with positive gain, best gain: -inf\n",
      "[LightGBM] [Warning] No further splits with positive gain, best gain: -inf\n",
      "[LightGBM] [Warning] No further splits with positive gain, best gain: -inf\n",
      "[LightGBM] [Warning] No further splits with positive gain, best gain: -inf\n",
      "[LightGBM] [Warning] No further splits with positive gain, best gain: -inf\n",
      "[LightGBM] [Warning] No further splits with positive gain, best gain: -inf\n",
      "[LightGBM] [Warning] No further splits with positive gain, best gain: -inf\n",
      "[LightGBM] [Warning] No further splits with positive gain, best gain: -inf\n",
      "[LightGBM] [Warning] No further splits with positive gain, best gain: -inf\n",
      "[LightGBM] [Warning] No further splits with positive gain, best gain: -inf\n",
      "[LightGBM] [Warning] No further splits with positive gain, best gain: -inf\n",
      "[LightGBM] [Warning] No further splits with positive gain, best gain: -inf\n",
      "[LightGBM] [Warning] No further splits with positive gain, best gain: -inf\n",
      "[LightGBM] [Warning] No further splits with positive gain, best gain: -inf\n",
      "[LightGBM] [Warning] No further splits with positive gain, best gain: -inf\n",
      "[LightGBM] [Warning] No further splits with positive gain, best gain: -inf\n",
      "[LightGBM] [Warning] No further splits with positive gain, best gain: -inf\n",
      "[LightGBM] [Warning] No further splits with positive gain, best gain: -inf\n",
      "[LightGBM] [Warning] No further splits with positive gain, best gain: -inf\n",
      "[LightGBM] [Warning] No further splits with positive gain, best gain: -inf\n",
      "[LightGBM] [Warning] No further splits with positive gain, best gain: -inf\n",
      "[LightGBM] [Warning] No further splits with positive gain, best gain: -inf\n",
      "[LightGBM] [Warning] No further splits with positive gain, best gain: -inf\n",
      "[LightGBM] [Warning] No further splits with positive gain, best gain: -inf\n",
      "[LightGBM] [Warning] No further splits with positive gain, best gain: -inf\n",
      "[LightGBM] [Warning] No further splits with positive gain, best gain: -inf\n",
      "[LightGBM] [Warning] No further splits with positive gain, best gain: -inf\n",
      "[LightGBM] [Warning] No further splits with positive gain, best gain: -inf\n",
      "[LightGBM] [Warning] No further splits with positive gain, best gain: -inf\n",
      "[LightGBM] [Warning] No further splits with positive gain, best gain: -inf\n",
      "[LightGBM] [Warning] No further splits with positive gain, best gain: -inf\n",
      "[LightGBM] [Warning] No further splits with positive gain, best gain: -inf\n",
      "[LightGBM] [Warning] No further splits with positive gain, best gain: -inf\n",
      "[LightGBM] [Warning] No further splits with positive gain, best gain: -inf\n",
      "[LightGBM] [Warning] No further splits with positive gain, best gain: -inf\n",
      "[LightGBM] [Warning] No further splits with positive gain, best gain: -inf\n",
      "[LightGBM] [Warning] No further splits with positive gain, best gain: -inf\n",
      "[LightGBM] [Warning] No further splits with positive gain, best gain: -inf\n",
      "[LightGBM] [Warning] No further splits with positive gain, best gain: -inf\n",
      "[LightGBM] [Warning] No further splits with positive gain, best gain: -inf\n",
      "[LightGBM] [Warning] No further splits with positive gain, best gain: -inf\n",
      "[LightGBM] [Warning] No further splits with positive gain, best gain: -inf\n",
      "[LightGBM] [Warning] No further splits with positive gain, best gain: -inf\n",
      "[LightGBM] [Warning] No further splits with positive gain, best gain: -inf\n",
      "[LightGBM] [Warning] No further splits with positive gain, best gain: -inf\n",
      "[LightGBM] [Warning] No further splits with positive gain, best gain: -inf\n",
      "[LightGBM] [Warning] No further splits with positive gain, best gain: -inf\n",
      "[LightGBM] [Warning] No further splits with positive gain, best gain: -inf\n",
      "[LightGBM] [Warning] No further splits with positive gain, best gain: -inf\n",
      "[LightGBM] [Warning] No further splits with positive gain, best gain: -inf\n",
      "[LightGBM] [Warning] No further splits with positive gain, best gain: -inf\n",
      "[LightGBM] [Warning] No further splits with positive gain, best gain: -inf\n",
      "[LightGBM] [Warning] No further splits with positive gain, best gain: -inf\n",
      "[LightGBM] [Warning] No further splits with positive gain, best gain: -inf\n",
      "[LightGBM] [Warning] No further splits with positive gain, best gain: -inf\n",
      "[LightGBM] [Warning] No further splits with positive gain, best gain: -inf\n",
      "[LightGBM] [Warning] No further splits with positive gain, best gain: -inf\n",
      "[LightGBM] [Warning] No further splits with positive gain, best gain: -inf\n",
      "[LightGBM] [Warning] No further splits with positive gain, best gain: -inf\n",
      "[LightGBM] [Warning] No further splits with positive gain, best gain: -inf\n",
      "[LightGBM] [Warning] No further splits with positive gain, best gain: -inf\n",
      "[LightGBM] [Warning] No further splits with positive gain, best gain: -inf\n",
      "[LightGBM] [Warning] No further splits with positive gain, best gain: -inf\n",
      "[LightGBM] [Warning] No further splits with positive gain, best gain: -inf\n",
      "[LightGBM] [Warning] No further splits with positive gain, best gain: -inf\n",
      "[LightGBM] [Warning] No further splits with positive gain, best gain: -inf\n",
      "[LightGBM] [Warning] No further splits with positive gain, best gain: -inf\n",
      "[LightGBM] [Warning] No further splits with positive gain, best gain: -inf\n",
      "[LightGBM] [Warning] No further splits with positive gain, best gain: -inf\n",
      "[LightGBM] [Warning] No further splits with positive gain, best gain: -inf\n",
      "[LightGBM] [Warning] No further splits with positive gain, best gain: -inf\n",
      "[LightGBM] [Warning] No further splits with positive gain, best gain: -inf\n",
      "[LightGBM] [Warning] No further splits with positive gain, best gain: -inf\n",
      "[LightGBM] [Warning] No further splits with positive gain, best gain: -inf\n",
      "[LightGBM] [Warning] No further splits with positive gain, best gain: -inf\n",
      "[LightGBM] [Warning] No further splits with positive gain, best gain: -inf\n",
      "[LightGBM] [Warning] No further splits with positive gain, best gain: -inf\n",
      "[LightGBM] [Warning] No further splits with positive gain, best gain: -inf\n",
      "[LightGBM] [Warning] No further splits with positive gain, best gain: -inf\n",
      "[LightGBM] [Warning] No further splits with positive gain, best gain: -inf\n",
      "[LightGBM] [Warning] No further splits with positive gain, best gain: -inf\n",
      "[LightGBM] [Warning] No further splits with positive gain, best gain: -inf\n",
      "[LightGBM] [Warning] No further splits with positive gain, best gain: -inf\n",
      "[LightGBM] [Warning] No further splits with positive gain, best gain: -inf\n",
      "[LightGBM] [Warning] No further splits with positive gain, best gain: -inf\n",
      "[LightGBM] [Warning] No further splits with positive gain, best gain: -inf\n",
      "LightGBM Accuracy: 0.7224489795918367\n",
      "              precision    recall  f1-score   support\n",
      "\n",
      "           0       0.75      0.92      0.83       180\n",
      "           1       0.44      0.17      0.24        65\n",
      "\n",
      "    accuracy                           0.72       245\n",
      "   macro avg       0.60      0.55      0.54       245\n",
      "weighted avg       0.67      0.72      0.67       245\n",
      "\n"
     ]
    }
   ],
   "source": [
    "lgb_model = lgb.LGBMClassifier(n_estimators=100, learning_rate=0.1, max_depth=3, random_state=42)\n",
    "lgb_model.fit(X_train, y_train)\n",
    "\n",
    "# Make predictions\n",
    "y_pred_lgb = lgb_model.predict(X_test)\n",
    "\n",
    "# Evaluate\n",
    "print(\"LightGBM Accuracy:\", accuracy_score(y_test, y_pred_lgb))\n",
    "print(classification_report(y_test, y_pred_lgb))\n"
   ]
  },
  {
   "cell_type": "code",
   "execution_count": 75,
   "metadata": {},
   "outputs": [
    {
     "name": "stdout",
     "output_type": "stream",
     "text": [
      "CatBoost Accuracy: 0.7224489795918367\n",
      "              precision    recall  f1-score   support\n",
      "\n",
      "           0       0.74      0.96      0.84       180\n",
      "           1       0.36      0.06      0.11        65\n",
      "\n",
      "    accuracy                           0.72       245\n",
      "   macro avg       0.55      0.51      0.47       245\n",
      "weighted avg       0.64      0.72      0.64       245\n",
      "\n"
     ]
    }
   ],
   "source": [
    "cat_model = cb.CatBoostClassifier(iterations=100, learning_rate=0.1, depth=3, verbose=0, random_state=42)\n",
    "cat_model.fit(X_train, y_train)\n",
    "\n",
    "# Make predictions\n",
    "y_pred_cat = cat_model.predict(X_test)\n",
    "\n",
    "# Evaluate\n",
    "print(\"CatBoost Accuracy:\", accuracy_score(y_test, y_pred_cat))\n",
    "print(classification_report(y_test, y_pred_cat))\n"
   ]
  },
  {
   "cell_type": "code",
   "execution_count": 72,
   "metadata": {},
   "outputs": [
    {
     "name": "stdout",
     "output_type": "stream",
     "text": [
      "Epoch 1/20\n"
     ]
    },
    {
     "name": "stderr",
     "output_type": "stream",
     "text": [
      "/opt/anaconda3/lib/python3.12/site-packages/keras/src/layers/core/dense.py:87: UserWarning: Do not pass an `input_shape`/`input_dim` argument to a layer. When using Sequential models, prefer using an `Input(shape)` object as the first layer in the model instead.\n",
      "  super().__init__(activity_regularizer=activity_regularizer, **kwargs)\n"
     ]
    },
    {
     "name": "stdout",
     "output_type": "stream",
     "text": [
      "\u001b[1m31/31\u001b[0m \u001b[32m━━━━━━━━━━━━━━━━━━━━\u001b[0m\u001b[37m\u001b[0m \u001b[1m0s\u001b[0m 3ms/step - accuracy: 0.4962 - loss: 0.7115 - val_accuracy: 0.7347 - val_loss: 0.5918\n",
      "Epoch 2/20\n",
      "\u001b[1m31/31\u001b[0m \u001b[32m━━━━━━━━━━━━━━━━━━━━\u001b[0m\u001b[37m\u001b[0m \u001b[1m0s\u001b[0m 1ms/step - accuracy: 0.7110 - loss: 0.6043 - val_accuracy: 0.7347 - val_loss: 0.5733\n",
      "Epoch 3/20\n",
      "\u001b[1m31/31\u001b[0m \u001b[32m━━━━━━━━━━━━━━━━━━━━\u001b[0m\u001b[37m\u001b[0m \u001b[1m0s\u001b[0m 1ms/step - accuracy: 0.7402 - loss: 0.5491 - val_accuracy: 0.7306 - val_loss: 0.5652\n",
      "Epoch 4/20\n",
      "\u001b[1m31/31\u001b[0m \u001b[32m━━━━━━━━━━━━━━━━━━━━\u001b[0m\u001b[37m\u001b[0m \u001b[1m0s\u001b[0m 1ms/step - accuracy: 0.7645 - loss: 0.5164 - val_accuracy: 0.7265 - val_loss: 0.5627\n",
      "Epoch 5/20\n",
      "\u001b[1m31/31\u001b[0m \u001b[32m━━━━━━━━━━━━━━━━━━━━\u001b[0m\u001b[37m\u001b[0m \u001b[1m0s\u001b[0m 1ms/step - accuracy: 0.7555 - loss: 0.5283 - val_accuracy: 0.7388 - val_loss: 0.5625\n",
      "Epoch 6/20\n",
      "\u001b[1m31/31\u001b[0m \u001b[32m━━━━━━━━━━━━━━━━━━━━\u001b[0m\u001b[37m\u001b[0m \u001b[1m0s\u001b[0m 1ms/step - accuracy: 0.7403 - loss: 0.5322 - val_accuracy: 0.7388 - val_loss: 0.5652\n",
      "Epoch 7/20\n",
      "\u001b[1m31/31\u001b[0m \u001b[32m━━━━━━━━━━━━━━━━━━━━\u001b[0m\u001b[37m\u001b[0m \u001b[1m0s\u001b[0m 1ms/step - accuracy: 0.7542 - loss: 0.5262 - val_accuracy: 0.7265 - val_loss: 0.5636\n",
      "Epoch 8/20\n",
      "\u001b[1m31/31\u001b[0m \u001b[32m━━━━━━━━━━━━━━━━━━━━\u001b[0m\u001b[37m\u001b[0m \u001b[1m0s\u001b[0m 1ms/step - accuracy: 0.7717 - loss: 0.5073 - val_accuracy: 0.7347 - val_loss: 0.5670\n",
      "Epoch 9/20\n",
      "\u001b[1m31/31\u001b[0m \u001b[32m━━━━━━━━━━━━━━━━━━━━\u001b[0m\u001b[37m\u001b[0m \u001b[1m0s\u001b[0m 1ms/step - accuracy: 0.7432 - loss: 0.5309 - val_accuracy: 0.7388 - val_loss: 0.5674\n",
      "Epoch 10/20\n",
      "\u001b[1m31/31\u001b[0m \u001b[32m━━━━━━━━━━━━━━━━━━━━\u001b[0m\u001b[37m\u001b[0m \u001b[1m0s\u001b[0m 1ms/step - accuracy: 0.7800 - loss: 0.4781 - val_accuracy: 0.7265 - val_loss: 0.5697\n",
      "Epoch 11/20\n",
      "\u001b[1m31/31\u001b[0m \u001b[32m━━━━━━━━━━━━━━━━━━━━\u001b[0m\u001b[37m\u001b[0m \u001b[1m0s\u001b[0m 1ms/step - accuracy: 0.7641 - loss: 0.4942 - val_accuracy: 0.7184 - val_loss: 0.5739\n",
      "Epoch 12/20\n",
      "\u001b[1m31/31\u001b[0m \u001b[32m━━━━━━━━━━━━━━━━━━━━\u001b[0m\u001b[37m\u001b[0m \u001b[1m0s\u001b[0m 1ms/step - accuracy: 0.7669 - loss: 0.5004 - val_accuracy: 0.7224 - val_loss: 0.5747\n",
      "Epoch 13/20\n",
      "\u001b[1m31/31\u001b[0m \u001b[32m━━━━━━━━━━━━━━━━━━━━\u001b[0m\u001b[37m\u001b[0m \u001b[1m0s\u001b[0m 1ms/step - accuracy: 0.7660 - loss: 0.4890 - val_accuracy: 0.7143 - val_loss: 0.5799\n",
      "Epoch 14/20\n",
      "\u001b[1m31/31\u001b[0m \u001b[32m━━━━━━━━━━━━━━━━━━━━\u001b[0m\u001b[37m\u001b[0m \u001b[1m0s\u001b[0m 3ms/step - accuracy: 0.7486 - loss: 0.5095 - val_accuracy: 0.7224 - val_loss: 0.5830\n",
      "Epoch 15/20\n",
      "\u001b[1m31/31\u001b[0m \u001b[32m━━━━━━━━━━━━━━━━━━━━\u001b[0m\u001b[37m\u001b[0m \u001b[1m0s\u001b[0m 1ms/step - accuracy: 0.7670 - loss: 0.4835 - val_accuracy: 0.7265 - val_loss: 0.5842\n",
      "Epoch 16/20\n",
      "\u001b[1m31/31\u001b[0m \u001b[32m━━━━━━━━━━━━━━━━━━━━\u001b[0m\u001b[37m\u001b[0m \u001b[1m0s\u001b[0m 1ms/step - accuracy: 0.7521 - loss: 0.5010 - val_accuracy: 0.7306 - val_loss: 0.5889\n",
      "Epoch 17/20\n",
      "\u001b[1m31/31\u001b[0m \u001b[32m━━━━━━━━━━━━━━━━━━━━\u001b[0m\u001b[37m\u001b[0m \u001b[1m0s\u001b[0m 1ms/step - accuracy: 0.7607 - loss: 0.4923 - val_accuracy: 0.7224 - val_loss: 0.5901\n",
      "Epoch 18/20\n",
      "\u001b[1m31/31\u001b[0m \u001b[32m━━━━━━━━━━━━━━━━━━━━\u001b[0m\u001b[37m\u001b[0m \u001b[1m0s\u001b[0m 1ms/step - accuracy: 0.7748 - loss: 0.4898 - val_accuracy: 0.7224 - val_loss: 0.5902\n",
      "Epoch 19/20\n",
      "\u001b[1m31/31\u001b[0m \u001b[32m━━━━━━━━━━━━━━━━━━━━\u001b[0m\u001b[37m\u001b[0m \u001b[1m0s\u001b[0m 1ms/step - accuracy: 0.7780 - loss: 0.4763 - val_accuracy: 0.7224 - val_loss: 0.5958\n",
      "Epoch 20/20\n",
      "\u001b[1m31/31\u001b[0m \u001b[32m━━━━━━━━━━━━━━━━━━━━\u001b[0m\u001b[37m\u001b[0m \u001b[1m0s\u001b[0m 1ms/step - accuracy: 0.7598 - loss: 0.4779 - val_accuracy: 0.7265 - val_loss: 0.5950\n",
      "\u001b[1m8/8\u001b[0m \u001b[32m━━━━━━━━━━━━━━━━━━━━\u001b[0m\u001b[37m\u001b[0m \u001b[1m0s\u001b[0m 4ms/step \n",
      "🎯 Neural Network Accuracy: 0.726530612244898\n",
      "              precision    recall  f1-score   support\n",
      "\n",
      "           0       0.75      0.93      0.83       180\n",
      "           1       0.45      0.15      0.23        65\n",
      "\n",
      "    accuracy                           0.73       245\n",
      "   macro avg       0.60      0.54      0.53       245\n",
      "weighted avg       0.67      0.73      0.67       245\n",
      "\n"
     ]
    }
   ],
   "source": [
    "# Define Neural Network\n",
    "nn_model = keras.Sequential([\n",
    "    keras.layers.Dense(64, activation='relu', input_shape=(X_train.shape[1],)),\n",
    "    keras.layers.Dense(32, activation='relu'),\n",
    "    keras.layers.Dense(1, activation='sigmoid')  # Binary classification\n",
    "])\n",
    "\n",
    "# Compile Model\n",
    "nn_model.compile(optimizer='adam', loss='binary_crossentropy', metrics=['accuracy'])\n",
    "\n",
    "# Train Model\n",
    "nn_model.fit(X_train, y_train, epochs=20, batch_size=32, validation_data=(X_test, y_test), verbose=1)\n",
    "\n",
    "# Predict\n",
    "y_pred_nn = (nn_model.predict(X_test) > 0.5).astype(int)\n",
    "\n",
    "# Evaluate\n",
    "print(\"🎯 Neural Network Accuracy:\", accuracy_score(y_test, y_pred_nn))\n",
    "print(classification_report(y_test, y_pred_nn))\n"
   ]
  },
  {
   "cell_type": "code",
   "execution_count": null,
   "metadata": {},
   "outputs": [],
   "source": []
  },
  {
   "cell_type": "code",
   "execution_count": null,
   "metadata": {},
   "outputs": [],
   "source": []
  },
  {
   "cell_type": "code",
   "execution_count": null,
   "metadata": {},
   "outputs": [],
   "source": []
  },
  {
   "cell_type": "code",
   "execution_count": null,
   "metadata": {},
   "outputs": [],
   "source": []
  },
  {
   "cell_type": "code",
   "execution_count": null,
   "metadata": {},
   "outputs": [],
   "source": []
  },
  {
   "cell_type": "code",
   "execution_count": null,
   "metadata": {},
   "outputs": [],
   "source": []
  },
  {
   "cell_type": "code",
   "execution_count": null,
   "metadata": {},
   "outputs": [],
   "source": []
  },
  {
   "cell_type": "code",
   "execution_count": null,
   "metadata": {},
   "outputs": [],
   "source": []
  },
  {
   "cell_type": "code",
   "execution_count": null,
   "metadata": {},
   "outputs": [],
   "source": []
  }
 ],
 "metadata": {
  "kernelspec": {
   "display_name": "base",
   "language": "python",
   "name": "python3"
  },
  "language_info": {
   "codemirror_mode": {
    "name": "ipython",
    "version": 3
   },
   "file_extension": ".py",
   "mimetype": "text/x-python",
   "name": "python",
   "nbconvert_exporter": "python",
   "pygments_lexer": "ipython3",
   "version": "3.12.7"
  }
 },
 "nbformat": 4,
 "nbformat_minor": 2
}
